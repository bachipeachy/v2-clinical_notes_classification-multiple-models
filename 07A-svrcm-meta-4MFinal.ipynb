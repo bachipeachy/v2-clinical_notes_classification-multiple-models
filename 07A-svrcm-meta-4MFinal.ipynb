{
 "cells": [
  {
   "cell_type": "markdown",
   "metadata": {},
   "source": [
    "###  v2-clinical_notes_classification - using multiple models\n"
   ]
  },
  {
   "cell_type": "code",
   "execution_count": 1,
   "metadata": {},
   "outputs": [],
   "source": [
    "import pandas as pd\n",
    "import numpy as np\n",
    "import sys, os\n",
    "import statistics\n",
    "\n",
    "from sklearn.preprocessing import LabelBinarizer\n",
    "\n",
    "import matplotlib.pyplot as plt \n",
    "\n",
    "import tensorflow as tf\n",
    "from tensorflow.keras import Model\n",
    "from tensorflow.keras.layers import Dense, Input, LSTM, Bidirectional, Embedding\n",
    "from tensorflow.keras.losses import categorical_crossentropy\n",
    "\n",
    "from tensorflow.keras.utils import plot_model\n",
    "\n",
    "import tensorflow_hub as hub\n",
    "import bert\n",
    "from bert.tokenization.bert_tokenization import FullTokenizer\n",
    "\n",
    "import hashlib\n",
    "\n",
    "from tqdm import tqdm"
   ]
  },
  {
   "cell_type": "code",
   "execution_count": 2,
   "metadata": {},
   "outputs": [],
   "source": [
    "svrcm_file = './data/clinical_notes.csv'\n",
    "bert_url = \"https://tfhub.dev/tensorflow/bert_en_uncased_L-12_H-768_A-12/1\"\n"
   ]
  },
  {
   "cell_type": "code",
   "execution_count": 3,
   "metadata": {},
   "outputs": [],
   "source": [
    "SEQUENCE_LEN = 200\n",
    "assert SEQUENCE_LEN < 512, \"The maximun permissible sequence length for BERT is 512\"\n",
    "\n",
    "BATCH_SIZE = 1\n",
    "assert BATCH_SIZE < 33, \"The tensor flow model.fit hangs up on last epoch for batch size > 32\"\n",
    "\n",
    "EPOCHS = 1\n",
    "LEARNING_RATE = 1e-3\n",
    "\n",
    "\n",
    "CATEGORIES = ['allergies',\n",
    " 'chief_complaint',\n",
    " 'cpt_code',\n",
    " 'current_medication',\n",
    " 'diag_code',\n",
    " 'examination',\n",
    " 'fam_hist',\n",
    " 'hosp_hist',\n",
    " 'illness_hist',\n",
    " 'med_hist',\n",
    " 'modifier',\n",
    " 'social_hist',\n",
    " 'surg_hist',\n",
    " 'uncategorized']\n",
    "MODEL_NAMES = [\"burt_only\", \"burt_LTSM128\", \"burt_LTSM256\", \"embd_LTSM256\"]"
   ]
  },
  {
   "cell_type": "code",
   "execution_count": 4,
   "metadata": {},
   "outputs": [
    {
     "name": "stdout",
     "output_type": "stream",
     "text": [
      "tensorflow version -> 2.1.0\n",
      "sys/python version -> 3.7.7 (default, Mar 10 2020, 15:43:33) \n",
      "[Clang 11.0.0 (clang-1100.0.33.17)]\n"
     ]
    }
   ],
   "source": [
    "print(\"tensorflow version ->\", tf.__version__)\n",
    "print(\"sys/python version ->\", sys.version)\n",
    "np.set_printoptions(suppress=True, precision=2)\n"
   ]
  },
  {
   "cell_type": "markdown",
   "metadata": {},
   "source": [
    "### utilities"
   ]
  },
  {
   "cell_type": "code",
   "execution_count": 5,
   "metadata": {},
   "outputs": [],
   "source": [
    "def validate_categories(df):\n",
    "    values = df.values\n",
    "    arr_binary = np.in1d(values, CATEGORIES)\n",
    "    bad_rows = np.flatnonzero(arr_binary == False)\n",
    "    excel_bad_rows = bad_rows+2\n",
    "    if excel_bad_rows.size>0 :\n",
    "        print(\"DATA ERRORS -> clinical_notes.csv file as following excel rows with bad categories:\\n\",\n",
    "              excel_bad_rows)\n",
    "    return"
   ]
  },
  {
   "cell_type": "code",
   "execution_count": 6,
   "metadata": {},
   "outputs": [],
   "source": [
    "def validate_clinical_notes(df):\n",
    "    len_arr = [len(note) for note in df]\n",
    "    len_arr.sort()\n",
    "    print(\"df_notes -> shape {}, min_len {}, max_len {}, mean {}, median {}\".format(\n",
    "        df.shape, len_arr[0], len_arr[-1],\n",
    "        int(statistics.mean(len_arr)), int(statistics.median(len_arr))))\n",
    "    assert  len_arr[-1] < SEQUENCE_LEN, \"notes include a line greater than max allowed\"\n",
    "    return"
   ]
  },
  {
   "cell_type": "markdown",
   "metadata": {},
   "source": [
    "### dataset"
   ]
  },
  {
   "cell_type": "code",
   "execution_count": 7,
   "metadata": {},
   "outputs": [
    {
     "name": "stdout",
     "output_type": "stream",
     "text": [
      "df_notes -> shape (210,), min_len 2, max_len 175, mean 59, median 54\n"
     ]
    }
   ],
   "source": [
    "def download_clinical_notes(svrcm_file):\n",
    "    df_notes = pd.read_csv(svrcm_file, engine='python')\n",
    "    validate_categories(df_notes['category'])\n",
    "    validate_clinical_notes(df_notes['notes'])\n",
    "    \n",
    "    return df_notes\n",
    "\n",
    "df_notes = download_clinical_notes(svrcm_file)"
   ]
  },
  {
   "cell_type": "code",
   "execution_count": 8,
   "metadata": {},
   "outputs": [
    {
     "name": "stdout",
     "output_type": "stream",
     "text": [
      "df_dataset (patients, col)-> (9, 3)\n"
     ]
    }
   ],
   "source": [
    "def create_patient_dataset(df):\n",
    "    df_1 = df.groupby(['id'])['notes'].apply(list)\n",
    "    df_2 = df.groupby(['id'])['category'].apply(list)\n",
    "    df_dataset = pd.concat([df_1, df_2], axis=1)\n",
    "    df_dataset.reset_index(inplace=True)\n",
    "    print(\"df_dataset (patients, col)->\", df_dataset.shape)\n",
    "    assert (df_dataset.shape[0]==len(df.id.unique()) and\n",
    "            df_dataset.shape[1]==3 ), \"df_dataset shape mismatch\"\n",
    "    return df_dataset\n",
    "\n",
    "df_dataset = create_patient_dataset(df_notes)"
   ]
  },
  {
   "cell_type": "code",
   "execution_count": 9,
   "metadata": {},
   "outputs": [
    {
     "data": {
      "text/html": [
       "<div>\n",
       "<style scoped>\n",
       "    .dataframe tbody tr th:only-of-type {\n",
       "        vertical-align: middle;\n",
       "    }\n",
       "\n",
       "    .dataframe tbody tr th {\n",
       "        vertical-align: top;\n",
       "    }\n",
       "\n",
       "    .dataframe thead th {\n",
       "        text-align: right;\n",
       "    }\n",
       "</style>\n",
       "<table border=\"1\" class=\"dataframe\">\n",
       "  <thead>\n",
       "    <tr style=\"text-align: right;\">\n",
       "      <th></th>\n",
       "      <th>id</th>\n",
       "      <th>notes</th>\n",
       "      <th>category</th>\n",
       "    </tr>\n",
       "  </thead>\n",
       "  <tbody>\n",
       "    <tr>\n",
       "      <th>0</th>\n",
       "      <td>11111</td>\n",
       "      <td>[Reason for appointment Patient has history of...</td>\n",
       "      <td>[chief_complaint, chief_complaint, chief_compl...</td>\n",
       "    </tr>\n",
       "    <tr>\n",
       "      <th>1</th>\n",
       "      <td>11112</td>\n",
       "      <td>[Patient FC presents with following complaints...</td>\n",
       "      <td>[chief_complaint, chief_complaint, illness_his...</td>\n",
       "    </tr>\n",
       "    <tr>\n",
       "      <th>2</th>\n",
       "      <td>11113</td>\n",
       "      <td>[Patient complains of blurred vision and occas...</td>\n",
       "      <td>[chief_complaint, chief_complaint, illness_his...</td>\n",
       "    </tr>\n",
       "    <tr>\n",
       "      <th>3</th>\n",
       "      <td>11114</td>\n",
       "      <td>[Patient presents for retinal evaluation. ,   ...</td>\n",
       "      <td>[chief_complaint, chief_complaint, illness_his...</td>\n",
       "    </tr>\n",
       "    <tr>\n",
       "      <th>4</th>\n",
       "      <td>11115</td>\n",
       "      <td>[Patient presents with postop care same day le...</td>\n",
       "      <td>[chief_complaint, allergies, hosp_hist, examin...</td>\n",
       "    </tr>\n",
       "    <tr>\n",
       "      <th>5</th>\n",
       "      <td>11116</td>\n",
       "      <td>[Patient has medical condition hypertension. ,...</td>\n",
       "      <td>[chief_complaint, chief_complaint, chief_compl...</td>\n",
       "    </tr>\n",
       "    <tr>\n",
       "      <th>6</th>\n",
       "      <td>11117</td>\n",
       "      <td>[Patient has history of diabetes presents for ...</td>\n",
       "      <td>[chief_complaint, illness_hist, illness_hist, ...</td>\n",
       "    </tr>\n",
       "    <tr>\n",
       "      <th>7</th>\n",
       "      <td>11118</td>\n",
       "      <td>[Patient is known case of wet macular degenera...</td>\n",
       "      <td>[chief_complaint, cpt_code, diag_code, cpt_cod...</td>\n",
       "    </tr>\n",
       "    <tr>\n",
       "      <th>8</th>\n",
       "      <td>81118</td>\n",
       "      <td>[Patient complains of occasional floaters in t...</td>\n",
       "      <td>[chief_complaint, illness_hist, examination, e...</td>\n",
       "    </tr>\n",
       "  </tbody>\n",
       "</table>\n",
       "</div>"
      ],
      "text/plain": [
       "      id                                              notes  \\\n",
       "0  11111  [Reason for appointment Patient has history of...   \n",
       "1  11112  [Patient FC presents with following complaints...   \n",
       "2  11113  [Patient complains of blurred vision and occas...   \n",
       "3  11114  [Patient presents for retinal evaluation. ,   ...   \n",
       "4  11115  [Patient presents with postop care same day le...   \n",
       "5  11116  [Patient has medical condition hypertension. ,...   \n",
       "6  11117  [Patient has history of diabetes presents for ...   \n",
       "7  11118  [Patient is known case of wet macular degenera...   \n",
       "8  81118  [Patient complains of occasional floaters in t...   \n",
       "\n",
       "                                            category  \n",
       "0  [chief_complaint, chief_complaint, chief_compl...  \n",
       "1  [chief_complaint, chief_complaint, illness_his...  \n",
       "2  [chief_complaint, chief_complaint, illness_his...  \n",
       "3  [chief_complaint, chief_complaint, illness_his...  \n",
       "4  [chief_complaint, allergies, hosp_hist, examin...  \n",
       "5  [chief_complaint, chief_complaint, chief_compl...  \n",
       "6  [chief_complaint, illness_hist, illness_hist, ...  \n",
       "7  [chief_complaint, cpt_code, diag_code, cpt_cod...  \n",
       "8  [chief_complaint, illness_hist, examination, e...  "
      ]
     },
     "execution_count": 9,
     "metadata": {},
     "output_type": "execute_result"
    }
   ],
   "source": [
    "df_dataset"
   ]
  },
  {
   "cell_type": "markdown",
   "metadata": {},
   "source": [
    "### X & Y"
   ]
  },
  {
   "cell_type": "code",
   "execution_count": 10,
   "metadata": {},
   "outputs": [],
   "source": [
    "bert_layer = hub.KerasLayer(bert_url, trainable=False, name=\"BERT\")"
   ]
  },
  {
   "cell_type": "code",
   "execution_count": 11,
   "metadata": {},
   "outputs": [
    {
     "name": "stdout",
     "output_type": "stream",
     "text": [
      "vocab file located at:\n",
      " b'/Users/bp/tf-hub-cache/03d6fb3ce1605ad9e5e9ed5346b2fb9623ef4d3d/assets/vocab.txt'\n",
      "testing access to vocab.txt\n",
      "'corona' -> [21887]\n",
      "'21887' -> ['corona']\n"
     ]
    }
   ],
   "source": [
    "def get_tokenizer():\n",
    "    vocab_file = bert_layer.resolved_object.vocab_file.asset_path.numpy()\n",
    "    print(\"vocab file located at:\\n\", vocab_file)\n",
    "    tokenizer = FullTokenizer(vocab_file)\n",
    "    \n",
    "    print(\"testing access to vocab.txt\")\n",
    "    print(\"'corona' ->\" , tokenizer.convert_tokens_to_ids(['corona']))\n",
    "    print(\"'21887' ->\" , tokenizer.convert_ids_to_tokens([21887]))\n",
    "    return tokenizer\n",
    "\n",
    "tokenizer = get_tokenizer()"
   ]
  },
  {
   "cell_type": "code",
   "execution_count": 12,
   "metadata": {},
   "outputs": [],
   "source": [
    "def get_masks(tokens):\n",
    "    masks = [1]*len(tokens) + [0]*(SEQUENCE_LEN - len(tokens))\n",
    "    return masks"
   ]
  },
  {
   "cell_type": "code",
   "execution_count": 13,
   "metadata": {},
   "outputs": [],
   "source": [
    "def get_segments(tokens):\n",
    "    \"\"\"Segments: 0 for the first sequence, 1 for the second\"\"\"\n",
    "    segments = []\n",
    "    current_segment_id = 0\n",
    "    for token in tokens:\n",
    "        segments.append(current_segment_id)\n",
    "        if token == \"[SEP]\":\n",
    "            current_segment_id = 1\n",
    "    segments = segments + [0]*(SEQUENCE_LEN - len(tokens)) \n",
    "    return segments"
   ]
  },
  {
   "cell_type": "code",
   "execution_count": 14,
   "metadata": {},
   "outputs": [],
   "source": [
    "def get_ids(tokens):\n",
    "    \"\"\"Token ids from Tokenizer vocab\"\"\"\n",
    "    token_ids = tokenizer.convert_tokens_to_ids(tokens,)\n",
    "    token_ids = token_ids + [0]*(SEQUENCE_LEN - len(token_ids))\n",
    "    return token_ids"
   ]
  },
  {
   "cell_type": "code",
   "execution_count": 15,
   "metadata": {},
   "outputs": [],
   "source": [
    "def create_single_input(sample):\n",
    "    sample_tokens = tokenizer.tokenize(sample)\n",
    "    sample_tokens = sample_tokens[:(SEQUENCE_LEN-2)]\n",
    "    sample_tokens = [\"[CLS]\"] + sample_tokens + [\"[SEP]\"]\n",
    "    \n",
    "    ids = get_ids(sample_tokens)\n",
    "    masks = get_masks(sample_tokens)\n",
    "    segments = get_segments(sample_tokens)\n",
    "\n",
    "    return ids, masks, segments"
   ]
  },
  {
   "cell_type": "code",
   "execution_count": 16,
   "metadata": {},
   "outputs": [],
   "source": [
    "def create_triple_input(patient):\n",
    "    input_ids, input_masks, input_segments = [], [], []\n",
    "\n",
    "    for line in patient:\n",
    "        ids, masks, segments = create_single_input(line)\n",
    "        input_ids.append(ids)\n",
    "        input_masks.append(masks)\n",
    "        input_segments.append(segments)\n",
    "\n",
    "    triple_input = [np.asarray(input_ids, dtype=np.int32),\n",
    "                    np.asarray(input_masks, dtype=np.int32), \n",
    "                    np.asarray(input_segments, dtype=np.int32)]\n",
    "    print(\"triple_input type: {}, len: {}, each with shape: {}\".format(\n",
    "        type(triple_input), len(triple_input), triple_input[0].shape))\n",
    "\n",
    "    return triple_input"
   ]
  },
  {
   "cell_type": "markdown",
   "metadata": {},
   "source": [
    "### Dataset  Preparation"
   ]
  },
  {
   "cell_type": "code",
   "execution_count": 17,
   "metadata": {},
   "outputs": [
    {
     "name": "stdout",
     "output_type": "stream",
     "text": [
      "triple_input type: <class 'list'>, len: 3, each with shape: (52, 200)\n",
      "triple_input type: <class 'list'>, len: 3, each with shape: (29, 200)\n",
      "triple_input type: <class 'list'>, len: 3, each with shape: (36, 200)\n",
      "triple_input type: <class 'list'>, len: 3, each with shape: (34, 200)\n",
      "triple_input type: <class 'list'>, len: 3, each with shape: (12, 200)\n",
      "triple_input type: <class 'list'>, len: 3, each with shape: (17, 200)\n",
      "triple_input type: <class 'list'>, len: 3, each with shape: (14, 200)\n",
      "triple_input type: <class 'list'>, len: 3, each with shape: (5, 200)\n",
      "triple_input type: <class 'list'>, len: 3, each with shape: (11, 200)\n",
      "df_dataset -> (9, 4)\n"
     ]
    }
   ],
   "source": [
    "def append_triple_input(df):\n",
    "    if df.shape[1] != 3:\n",
    "        print(\"already executed or df_dataset is not ready for this operation\")\n",
    "        return df\n",
    "    df_X_notes = pd.Series(dtype=object)\n",
    "    for i, row in enumerate(df['notes'].values):\n",
    "        triple_input = create_triple_input(row)\n",
    "        df_X_notes.loc[i] = triple_input\n",
    "        \n",
    "    df_X_notes = df_X_notes.to_frame('X_notes')\n",
    "    df1 = df.reset_index().merge(df_X_notes, left_index=True, \n",
    "                                 right_index=True)\n",
    "    df1 = df1.drop('index', 1)\n",
    "    print(\"df_dataset ->\", df1.shape)\n",
    "    return df1\n",
    "\n",
    "df_dataset = append_triple_input(df_dataset)"
   ]
  },
  {
   "cell_type": "code",
   "execution_count": 19,
   "metadata": {},
   "outputs": [
    {
     "data": {
      "text/html": [
       "<div>\n",
       "<style scoped>\n",
       "    .dataframe tbody tr th:only-of-type {\n",
       "        vertical-align: middle;\n",
       "    }\n",
       "\n",
       "    .dataframe tbody tr th {\n",
       "        vertical-align: top;\n",
       "    }\n",
       "\n",
       "    .dataframe thead th {\n",
       "        text-align: right;\n",
       "    }\n",
       "</style>\n",
       "<table border=\"1\" class=\"dataframe\">\n",
       "  <thead>\n",
       "    <tr style=\"text-align: right;\">\n",
       "      <th></th>\n",
       "      <th>id</th>\n",
       "      <th>notes</th>\n",
       "      <th>category</th>\n",
       "      <th>X_notes</th>\n",
       "    </tr>\n",
       "  </thead>\n",
       "  <tbody>\n",
       "    <tr>\n",
       "      <th>0</th>\n",
       "      <td>11111</td>\n",
       "      <td>[Reason for appointment Patient has history of...</td>\n",
       "      <td>[chief_complaint, chief_complaint, chief_compl...</td>\n",
       "      <td>[[[101, 3114, 2005, 6098, 5776, 2038, 2381, 19...</td>\n",
       "    </tr>\n",
       "    <tr>\n",
       "      <th>1</th>\n",
       "      <td>11112</td>\n",
       "      <td>[Patient FC presents with following complaints...</td>\n",
       "      <td>[chief_complaint, chief_complaint, illness_his...</td>\n",
       "      <td>[[[101, 5776, 4429, 7534, 2007, 2206, 10821, 2...</td>\n",
       "    </tr>\n",
       "    <tr>\n",
       "      <th>2</th>\n",
       "      <td>11113</td>\n",
       "      <td>[Patient complains of blurred vision and occas...</td>\n",
       "      <td>[chief_complaint, chief_complaint, illness_his...</td>\n",
       "      <td>[[[101, 5776, 17612, 2015, 1997, 18449, 4432, ...</td>\n",
       "    </tr>\n",
       "    <tr>\n",
       "      <th>3</th>\n",
       "      <td>11114</td>\n",
       "      <td>[Patient presents for retinal evaluation. ,   ...</td>\n",
       "      <td>[chief_complaint, chief_complaint, illness_his...</td>\n",
       "      <td>[[[101, 5776, 7534, 2005, 2128, 13770, 2140, 9...</td>\n",
       "    </tr>\n",
       "    <tr>\n",
       "      <th>4</th>\n",
       "      <td>11115</td>\n",
       "      <td>[Patient presents with postop care same day le...</td>\n",
       "      <td>[chief_complaint, allergies, hosp_hist, examin...</td>\n",
       "      <td>[[[101, 5776, 7534, 2007, 2695, 7361, 2729, 21...</td>\n",
       "    </tr>\n",
       "    <tr>\n",
       "      <th>5</th>\n",
       "      <td>11116</td>\n",
       "      <td>[Patient has medical condition hypertension. ,...</td>\n",
       "      <td>[chief_complaint, chief_complaint, chief_compl...</td>\n",
       "      <td>[[[101, 5776, 2038, 2966, 4650, 23760, 29048, ...</td>\n",
       "    </tr>\n",
       "    <tr>\n",
       "      <th>6</th>\n",
       "      <td>11117</td>\n",
       "      <td>[Patient has history of diabetes presents for ...</td>\n",
       "      <td>[chief_complaint, illness_hist, illness_hist, ...</td>\n",
       "      <td>[[[101, 5776, 2038, 2381, 1997, 14671, 7534, 2...</td>\n",
       "    </tr>\n",
       "    <tr>\n",
       "      <th>7</th>\n",
       "      <td>11118</td>\n",
       "      <td>[Patient is known case of wet macular degenera...</td>\n",
       "      <td>[chief_complaint, cpt_code, diag_code, cpt_cod...</td>\n",
       "      <td>[[[101, 5776, 2003, 2124, 2553, 1997, 4954, 60...</td>\n",
       "    </tr>\n",
       "    <tr>\n",
       "      <th>8</th>\n",
       "      <td>81118</td>\n",
       "      <td>[Patient complains of occasional floaters in t...</td>\n",
       "      <td>[chief_complaint, illness_hist, examination, e...</td>\n",
       "      <td>[[[101, 5776, 17612, 2015, 1997, 8138, 14257, ...</td>\n",
       "    </tr>\n",
       "  </tbody>\n",
       "</table>\n",
       "</div>"
      ],
      "text/plain": [
       "      id                                              notes  \\\n",
       "0  11111  [Reason for appointment Patient has history of...   \n",
       "1  11112  [Patient FC presents with following complaints...   \n",
       "2  11113  [Patient complains of blurred vision and occas...   \n",
       "3  11114  [Patient presents for retinal evaluation. ,   ...   \n",
       "4  11115  [Patient presents with postop care same day le...   \n",
       "5  11116  [Patient has medical condition hypertension. ,...   \n",
       "6  11117  [Patient has history of diabetes presents for ...   \n",
       "7  11118  [Patient is known case of wet macular degenera...   \n",
       "8  81118  [Patient complains of occasional floaters in t...   \n",
       "\n",
       "                                            category  \\\n",
       "0  [chief_complaint, chief_complaint, chief_compl...   \n",
       "1  [chief_complaint, chief_complaint, illness_his...   \n",
       "2  [chief_complaint, chief_complaint, illness_his...   \n",
       "3  [chief_complaint, chief_complaint, illness_his...   \n",
       "4  [chief_complaint, allergies, hosp_hist, examin...   \n",
       "5  [chief_complaint, chief_complaint, chief_compl...   \n",
       "6  [chief_complaint, illness_hist, illness_hist, ...   \n",
       "7  [chief_complaint, cpt_code, diag_code, cpt_cod...   \n",
       "8  [chief_complaint, illness_hist, examination, e...   \n",
       "\n",
       "                                             X_notes  \n",
       "0  [[[101, 3114, 2005, 6098, 5776, 2038, 2381, 19...  \n",
       "1  [[[101, 5776, 4429, 7534, 2007, 2206, 10821, 2...  \n",
       "2  [[[101, 5776, 17612, 2015, 1997, 18449, 4432, ...  \n",
       "3  [[[101, 5776, 7534, 2005, 2128, 13770, 2140, 9...  \n",
       "4  [[[101, 5776, 7534, 2007, 2695, 7361, 2729, 21...  \n",
       "5  [[[101, 5776, 2038, 2966, 4650, 23760, 29048, ...  \n",
       "6  [[[101, 5776, 2038, 2381, 1997, 14671, 7534, 2...  \n",
       "7  [[[101, 5776, 2003, 2124, 2553, 1997, 4954, 60...  \n",
       "8  [[[101, 5776, 17612, 2015, 1997, 8138, 14257, ...  "
      ]
     },
     "execution_count": 19,
     "metadata": {},
     "output_type": "execute_result"
    }
   ],
   "source": [
    "df_dataset"
   ]
  },
  {
   "cell_type": "code",
   "execution_count": 20,
   "metadata": {},
   "outputs": [],
   "source": [
    "def one_hot_encode_utility(df):\n",
    "    lb = LabelBinarizer()\n",
    "    lb.fit_transform(CATEGORIES)\n",
    "    one_hot_labels = lb.transform(df)\n",
    "    \n",
    "    print('one_hot_labels ->', type(one_hot_labels), one_hot_labels.shape)\n",
    "    assert (one_hot_labels.shape[1]==len(CATEGORIES)), \"categories do not match with one_hot_labels\"\n",
    "    assert (one_hot_labels.shape[0]==len(df)), \"inconsistent number of samples processed\"\n",
    "    return one_hot_labels"
   ]
  },
  {
   "cell_type": "code",
   "execution_count": 23,
   "metadata": {},
   "outputs": [
    {
     "name": "stdout",
     "output_type": "stream",
     "text": [
      "already executed or df_dataset is not ready for this operation\n"
     ]
    }
   ],
   "source": [
    "def append_hot_encode_category(df):\n",
    "    if df.shape[1] != 4:\n",
    "        print(\"already executed or df_dataset is not ready for this operation\")\n",
    "        return df\n",
    "\n",
    "    arr = df['category'].values\n",
    "    df_Y_category = pd.Series(dtype=object)\n",
    "    for i, row in enumerate(arr):\n",
    "        df_Y_category.loc[i] = one_hot_encode_utility(row)\n",
    "    df_Y_category = df_Y_category.to_frame('Y_category')\n",
    "    df1 = df.reset_index().merge(df_Y_category, left_index=True, \n",
    "                                 right_index=True)\n",
    "    del df1['index']\n",
    "    print(\"df_dataset ->\", df1.shape)\n",
    "    return df1\n",
    "\n",
    "df_dataset = append_hot_encode_category(df_dataset)"
   ]
  },
  {
   "cell_type": "code",
   "execution_count": 24,
   "metadata": {},
   "outputs": [
    {
     "data": {
      "text/html": [
       "<div>\n",
       "<style scoped>\n",
       "    .dataframe tbody tr th:only-of-type {\n",
       "        vertical-align: middle;\n",
       "    }\n",
       "\n",
       "    .dataframe tbody tr th {\n",
       "        vertical-align: top;\n",
       "    }\n",
       "\n",
       "    .dataframe thead th {\n",
       "        text-align: right;\n",
       "    }\n",
       "</style>\n",
       "<table border=\"1\" class=\"dataframe\">\n",
       "  <thead>\n",
       "    <tr style=\"text-align: right;\">\n",
       "      <th></th>\n",
       "      <th>id</th>\n",
       "      <th>notes</th>\n",
       "      <th>category</th>\n",
       "      <th>X_notes</th>\n",
       "      <th>Y_category</th>\n",
       "    </tr>\n",
       "  </thead>\n",
       "  <tbody>\n",
       "    <tr>\n",
       "      <th>0</th>\n",
       "      <td>11111</td>\n",
       "      <td>[Reason for appointment Patient has history of...</td>\n",
       "      <td>[chief_complaint, chief_complaint, chief_compl...</td>\n",
       "      <td>[[[101, 3114, 2005, 6098, 5776, 2038, 2381, 19...</td>\n",
       "      <td>[[0, 1, 0, 0, 0, 0, 0, 0, 0, 0, 0, 0, 0, 0], [...</td>\n",
       "    </tr>\n",
       "    <tr>\n",
       "      <th>1</th>\n",
       "      <td>11112</td>\n",
       "      <td>[Patient FC presents with following complaints...</td>\n",
       "      <td>[chief_complaint, chief_complaint, illness_his...</td>\n",
       "      <td>[[[101, 5776, 4429, 7534, 2007, 2206, 10821, 2...</td>\n",
       "      <td>[[0, 1, 0, 0, 0, 0, 0, 0, 0, 0, 0, 0, 0, 0], [...</td>\n",
       "    </tr>\n",
       "    <tr>\n",
       "      <th>2</th>\n",
       "      <td>11113</td>\n",
       "      <td>[Patient complains of blurred vision and occas...</td>\n",
       "      <td>[chief_complaint, chief_complaint, illness_his...</td>\n",
       "      <td>[[[101, 5776, 17612, 2015, 1997, 18449, 4432, ...</td>\n",
       "      <td>[[0, 1, 0, 0, 0, 0, 0, 0, 0, 0, 0, 0, 0, 0], [...</td>\n",
       "    </tr>\n",
       "    <tr>\n",
       "      <th>3</th>\n",
       "      <td>11114</td>\n",
       "      <td>[Patient presents for retinal evaluation. ,   ...</td>\n",
       "      <td>[chief_complaint, chief_complaint, illness_his...</td>\n",
       "      <td>[[[101, 5776, 7534, 2005, 2128, 13770, 2140, 9...</td>\n",
       "      <td>[[0, 1, 0, 0, 0, 0, 0, 0, 0, 0, 0, 0, 0, 0], [...</td>\n",
       "    </tr>\n",
       "    <tr>\n",
       "      <th>4</th>\n",
       "      <td>11115</td>\n",
       "      <td>[Patient presents with postop care same day le...</td>\n",
       "      <td>[chief_complaint, allergies, hosp_hist, examin...</td>\n",
       "      <td>[[[101, 5776, 7534, 2007, 2695, 7361, 2729, 21...</td>\n",
       "      <td>[[0, 1, 0, 0, 0, 0, 0, 0, 0, 0, 0, 0, 0, 0], [...</td>\n",
       "    </tr>\n",
       "    <tr>\n",
       "      <th>5</th>\n",
       "      <td>11116</td>\n",
       "      <td>[Patient has medical condition hypertension. ,...</td>\n",
       "      <td>[chief_complaint, chief_complaint, chief_compl...</td>\n",
       "      <td>[[[101, 5776, 2038, 2966, 4650, 23760, 29048, ...</td>\n",
       "      <td>[[0, 1, 0, 0, 0, 0, 0, 0, 0, 0, 0, 0, 0, 0], [...</td>\n",
       "    </tr>\n",
       "    <tr>\n",
       "      <th>6</th>\n",
       "      <td>11117</td>\n",
       "      <td>[Patient has history of diabetes presents for ...</td>\n",
       "      <td>[chief_complaint, illness_hist, illness_hist, ...</td>\n",
       "      <td>[[[101, 5776, 2038, 2381, 1997, 14671, 7534, 2...</td>\n",
       "      <td>[[0, 1, 0, 0, 0, 0, 0, 0, 0, 0, 0, 0, 0, 0], [...</td>\n",
       "    </tr>\n",
       "    <tr>\n",
       "      <th>7</th>\n",
       "      <td>11118</td>\n",
       "      <td>[Patient is known case of wet macular degenera...</td>\n",
       "      <td>[chief_complaint, cpt_code, diag_code, cpt_cod...</td>\n",
       "      <td>[[[101, 5776, 2003, 2124, 2553, 1997, 4954, 60...</td>\n",
       "      <td>[[0, 1, 0, 0, 0, 0, 0, 0, 0, 0, 0, 0, 0, 0], [...</td>\n",
       "    </tr>\n",
       "    <tr>\n",
       "      <th>8</th>\n",
       "      <td>81118</td>\n",
       "      <td>[Patient complains of occasional floaters in t...</td>\n",
       "      <td>[chief_complaint, illness_hist, examination, e...</td>\n",
       "      <td>[[[101, 5776, 17612, 2015, 1997, 8138, 14257, ...</td>\n",
       "      <td>[[0, 1, 0, 0, 0, 0, 0, 0, 0, 0, 0, 0, 0, 0], [...</td>\n",
       "    </tr>\n",
       "  </tbody>\n",
       "</table>\n",
       "</div>"
      ],
      "text/plain": [
       "      id                                              notes  \\\n",
       "0  11111  [Reason for appointment Patient has history of...   \n",
       "1  11112  [Patient FC presents with following complaints...   \n",
       "2  11113  [Patient complains of blurred vision and occas...   \n",
       "3  11114  [Patient presents for retinal evaluation. ,   ...   \n",
       "4  11115  [Patient presents with postop care same day le...   \n",
       "5  11116  [Patient has medical condition hypertension. ,...   \n",
       "6  11117  [Patient has history of diabetes presents for ...   \n",
       "7  11118  [Patient is known case of wet macular degenera...   \n",
       "8  81118  [Patient complains of occasional floaters in t...   \n",
       "\n",
       "                                            category  \\\n",
       "0  [chief_complaint, chief_complaint, chief_compl...   \n",
       "1  [chief_complaint, chief_complaint, illness_his...   \n",
       "2  [chief_complaint, chief_complaint, illness_his...   \n",
       "3  [chief_complaint, chief_complaint, illness_his...   \n",
       "4  [chief_complaint, allergies, hosp_hist, examin...   \n",
       "5  [chief_complaint, chief_complaint, chief_compl...   \n",
       "6  [chief_complaint, illness_hist, illness_hist, ...   \n",
       "7  [chief_complaint, cpt_code, diag_code, cpt_cod...   \n",
       "8  [chief_complaint, illness_hist, examination, e...   \n",
       "\n",
       "                                             X_notes  \\\n",
       "0  [[[101, 3114, 2005, 6098, 5776, 2038, 2381, 19...   \n",
       "1  [[[101, 5776, 4429, 7534, 2007, 2206, 10821, 2...   \n",
       "2  [[[101, 5776, 17612, 2015, 1997, 18449, 4432, ...   \n",
       "3  [[[101, 5776, 7534, 2005, 2128, 13770, 2140, 9...   \n",
       "4  [[[101, 5776, 7534, 2007, 2695, 7361, 2729, 21...   \n",
       "5  [[[101, 5776, 2038, 2966, 4650, 23760, 29048, ...   \n",
       "6  [[[101, 5776, 2038, 2381, 1997, 14671, 7534, 2...   \n",
       "7  [[[101, 5776, 2003, 2124, 2553, 1997, 4954, 60...   \n",
       "8  [[[101, 5776, 17612, 2015, 1997, 8138, 14257, ...   \n",
       "\n",
       "                                          Y_category  \n",
       "0  [[0, 1, 0, 0, 0, 0, 0, 0, 0, 0, 0, 0, 0, 0], [...  \n",
       "1  [[0, 1, 0, 0, 0, 0, 0, 0, 0, 0, 0, 0, 0, 0], [...  \n",
       "2  [[0, 1, 0, 0, 0, 0, 0, 0, 0, 0, 0, 0, 0, 0], [...  \n",
       "3  [[0, 1, 0, 0, 0, 0, 0, 0, 0, 0, 0, 0, 0, 0], [...  \n",
       "4  [[0, 1, 0, 0, 0, 0, 0, 0, 0, 0, 0, 0, 0, 0], [...  \n",
       "5  [[0, 1, 0, 0, 0, 0, 0, 0, 0, 0, 0, 0, 0, 0], [...  \n",
       "6  [[0, 1, 0, 0, 0, 0, 0, 0, 0, 0, 0, 0, 0, 0], [...  \n",
       "7  [[0, 1, 0, 0, 0, 0, 0, 0, 0, 0, 0, 0, 0, 0], [...  \n",
       "8  [[0, 1, 0, 0, 0, 0, 0, 0, 0, 0, 0, 0, 0, 0], [...  "
      ]
     },
     "execution_count": 24,
     "metadata": {},
     "output_type": "execute_result"
    }
   ],
   "source": [
    "df_dataset"
   ]
  },
  {
   "cell_type": "code",
   "execution_count": 25,
   "metadata": {},
   "outputs": [
    {
     "data": {
      "text/plain": [
       "['Patient complains of occasional floaters in the left eye. ',\n",
       " '  Her past ocular history is significant for status post ',\n",
       " '  YAG laser capsulotomy in both eyes and pseudophakia. ',\n",
       " ' She also has history of mild amblyopia in the left eye ',\n",
       " '  Refraction shows In the right eye its 20/50 and in the left eye it is -1 0.5+0.75 at 30 degrees 20/50 ',\n",
       " '  Slit-lamp examination Default values for all except in the lens there is posterior chamber intraocular lens well-positioned in both eyes.',\n",
       " '   Retinal examination default values vitreous clear optic nerve pink ',\n",
       " ' macula good reflex vessels patent periphery attached ',\n",
       " '  However there is floaters in both eyes. ',\n",
       " ' Diagnosis Amblyopia left eye PVD left eye Pseudophakia both eyes. End ',\n",
       " 'OU']"
      ]
     },
     "execution_count": 25,
     "metadata": {},
     "output_type": "execute_result"
    }
   ],
   "source": [
    "df_dataset['notes'][8]"
   ]
  },
  {
   "cell_type": "code",
   "execution_count": 26,
   "metadata": {},
   "outputs": [
    {
     "data": {
      "text/plain": [
       "5776"
      ]
     },
     "execution_count": 26,
     "metadata": {},
     "output_type": "execute_result"
    }
   ],
   "source": [
    "df_dataset['X_notes'][7][0][0][1]"
   ]
  },
  {
   "cell_type": "code",
   "execution_count": 27,
   "metadata": {},
   "outputs": [
    {
     "data": {
      "text/plain": [
       "['patient']"
      ]
     },
     "execution_count": 27,
     "metadata": {},
     "output_type": "execute_result"
    }
   ],
   "source": [
    "tokenizer.convert_ids_to_tokens([5776])"
   ]
  },
  {
   "cell_type": "code",
   "execution_count": 28,
   "metadata": {},
   "outputs": [
    {
     "data": {
      "text/plain": [
       "30522"
      ]
     },
     "execution_count": 28,
     "metadata": {},
     "output_type": "execute_result"
    }
   ],
   "source": [
    "len(tokenizer.vocab)"
   ]
  },
  {
   "cell_type": "code",
   "execution_count": 29,
   "metadata": {},
   "outputs": [],
   "source": [
    "def build_meta_model():\n",
    "    models = []\n",
    "    input_word_ids = Input(shape=(SEQUENCE_LEN,), dtype=tf.int32, name=\"input_word_ids\")\n",
    "    input_mask = Input(shape=(SEQUENCE_LEN,), dtype=tf.int32, name=\"input_mask\")\n",
    "    segment_ids = Input(shape=(SEQUENCE_LEN,), dtype=tf.int32, name=\"segment_ids\")\n",
    "    pooled_output, sequence_output = bert_layer([input_word_ids, input_mask, segment_ids])\n",
    "    \n",
    "    for i in range(len(MODEL_NAMES)):\n",
    "        if i==0:\n",
    "            pred_label = Dense(len(CATEGORIES), activation=\"softmax\", name='pred_label')(pooled_output)\n",
    "        elif i==1:\n",
    "            lstm_layer = Bidirectional(LSTM(128))(sequence_output)\n",
    "            pred_label = Dense(len(CATEGORIES), activation=\"softmax\", name='pred_label')(lstm_layer)\n",
    "        elif i==2:\n",
    "            lstm_layer = Bidirectional(LSTM(256))(sequence_output)\n",
    "            pred_label = Dense(len(CATEGORIES), activation=\"softmax\", name='pred_label')(lstm_layer)\n",
    "        elif i==3:\n",
    "            embeddings = Embedding(input_dim=len(tokenizer.vocab), output_dim=768)(input_word_ids)\n",
    "            lstm_layer = Bidirectional(LSTM(256))(embeddings)\n",
    "            pred_label = Dense(len(CATEGORIES), activation=\"softmax\", name='pred_label')(lstm_layer)\n",
    "        else:\n",
    "            pass\n",
    "        model = Model([input_word_ids, input_mask, segment_ids], outputs=pred_label, name=MODEL_NAMES[i])\n",
    "        models.append(model)\n",
    "        print(\"built models[{}] : {}{}\".format(i, MODEL_NAMES[i], models[i]))\n",
    "    return models\n"
   ]
  },
  {
   "cell_type": "code",
   "execution_count": 30,
   "metadata": {},
   "outputs": [
    {
     "name": "stdout",
     "output_type": "stream",
     "text": [
      "built models[0] : burt_only<tensorflow.python.keras.engine.training.Model object at 0x13e6d6f90>\n",
      "built models[1] : burt_LTSM128<tensorflow.python.keras.engine.training.Model object at 0x13e7d9710>\n",
      "built models[2] : burt_LTSM256<tensorflow.python.keras.engine.training.Model object at 0x13f0a8710>\n",
      "built models[3] : embd_LTSM256<tensorflow.python.keras.engine.training.Model object at 0x1425ef1d0>\n"
     ]
    }
   ],
   "source": [
    "models = build_meta_model()"
   ]
  },
  {
   "cell_type": "code",
   "execution_count": 31,
   "metadata": {},
   "outputs": [
    {
     "name": "stdout",
     "output_type": "stream",
     "text": [
      "Model: \"burt_only\"\n",
      "__________________________________________________________________________________________________\n",
      "Layer (type)                    Output Shape         Param #     Connected to                     \n",
      "==================================================================================================\n",
      "input_word_ids (InputLayer)     [(None, 200)]        0                                            \n",
      "__________________________________________________________________________________________________\n",
      "input_mask (InputLayer)         [(None, 200)]        0                                            \n",
      "__________________________________________________________________________________________________\n",
      "segment_ids (InputLayer)        [(None, 200)]        0                                            \n",
      "__________________________________________________________________________________________________\n",
      "BERT (KerasLayer)               [(None, 768), (None, 109482241   input_word_ids[0][0]             \n",
      "                                                                 input_mask[0][0]                 \n",
      "                                                                 segment_ids[0][0]                \n",
      "__________________________________________________________________________________________________\n",
      "pred_label (Dense)              (None, 14)           10766       BERT[0][0]                       \n",
      "==================================================================================================\n",
      "Total params: 109,493,007\n",
      "Trainable params: 10,766\n",
      "Non-trainable params: 109,482,241\n",
      "__________________________________________________________________________________________________\n"
     ]
    }
   ],
   "source": [
    "models[0].summary()"
   ]
  },
  {
   "cell_type": "code",
   "execution_count": 32,
   "metadata": {},
   "outputs": [
    {
     "name": "stdout",
     "output_type": "stream",
     "text": [
      "Model: \"burt_LTSM128\"\n",
      "__________________________________________________________________________________________________\n",
      "Layer (type)                    Output Shape         Param #     Connected to                     \n",
      "==================================================================================================\n",
      "input_word_ids (InputLayer)     [(None, 200)]        0                                            \n",
      "__________________________________________________________________________________________________\n",
      "input_mask (InputLayer)         [(None, 200)]        0                                            \n",
      "__________________________________________________________________________________________________\n",
      "segment_ids (InputLayer)        [(None, 200)]        0                                            \n",
      "__________________________________________________________________________________________________\n",
      "BERT (KerasLayer)               [(None, 768), (None, 109482241   input_word_ids[0][0]             \n",
      "                                                                 input_mask[0][0]                 \n",
      "                                                                 segment_ids[0][0]                \n",
      "__________________________________________________________________________________________________\n",
      "bidirectional (Bidirectional)   (None, 256)          918528      BERT[0][1]                       \n",
      "__________________________________________________________________________________________________\n",
      "pred_label (Dense)              (None, 14)           3598        bidirectional[0][0]              \n",
      "==================================================================================================\n",
      "Total params: 110,404,367\n",
      "Trainable params: 922,126\n",
      "Non-trainable params: 109,482,241\n",
      "__________________________________________________________________________________________________\n"
     ]
    }
   ],
   "source": [
    "models[1].summary()"
   ]
  },
  {
   "cell_type": "code",
   "execution_count": 33,
   "metadata": {},
   "outputs": [
    {
     "name": "stdout",
     "output_type": "stream",
     "text": [
      "Model: \"burt_LTSM256\"\n",
      "__________________________________________________________________________________________________\n",
      "Layer (type)                    Output Shape         Param #     Connected to                     \n",
      "==================================================================================================\n",
      "input_word_ids (InputLayer)     [(None, 200)]        0                                            \n",
      "__________________________________________________________________________________________________\n",
      "input_mask (InputLayer)         [(None, 200)]        0                                            \n",
      "__________________________________________________________________________________________________\n",
      "segment_ids (InputLayer)        [(None, 200)]        0                                            \n",
      "__________________________________________________________________________________________________\n",
      "BERT (KerasLayer)               [(None, 768), (None, 109482241   input_word_ids[0][0]             \n",
      "                                                                 input_mask[0][0]                 \n",
      "                                                                 segment_ids[0][0]                \n",
      "__________________________________________________________________________________________________\n",
      "bidirectional_1 (Bidirectional) (None, 512)          2099200     BERT[0][1]                       \n",
      "__________________________________________________________________________________________________\n",
      "pred_label (Dense)              (None, 14)           7182        bidirectional_1[0][0]            \n",
      "==================================================================================================\n",
      "Total params: 111,588,623\n",
      "Trainable params: 2,106,382\n",
      "Non-trainable params: 109,482,241\n",
      "__________________________________________________________________________________________________\n"
     ]
    }
   ],
   "source": [
    "models[2].summary()"
   ]
  },
  {
   "cell_type": "code",
   "execution_count": 34,
   "metadata": {},
   "outputs": [
    {
     "name": "stdout",
     "output_type": "stream",
     "text": [
      "Model: \"embd_LTSM256\"\n",
      "__________________________________________________________________________________________________\n",
      "Layer (type)                    Output Shape         Param #     Connected to                     \n",
      "==================================================================================================\n",
      "input_word_ids (InputLayer)     [(None, 200)]        0                                            \n",
      "__________________________________________________________________________________________________\n",
      "embedding (Embedding)           (None, 200, 768)     23440896    input_word_ids[0][0]             \n",
      "__________________________________________________________________________________________________\n",
      "bidirectional_2 (Bidirectional) (None, 512)          2099200     embedding[0][0]                  \n",
      "__________________________________________________________________________________________________\n",
      "input_mask (InputLayer)         [(None, 200)]        0                                            \n",
      "__________________________________________________________________________________________________\n",
      "segment_ids (InputLayer)        [(None, 200)]        0                                            \n",
      "__________________________________________________________________________________________________\n",
      "pred_label (Dense)              (None, 14)           7182        bidirectional_2[0][0]            \n",
      "==================================================================================================\n",
      "Total params: 25,547,278\n",
      "Trainable params: 25,547,278\n",
      "Non-trainable params: 0\n",
      "__________________________________________________________________________________________________\n"
     ]
    }
   ],
   "source": [
    "models[3].summary()"
   ]
  },
  {
   "cell_type": "code",
   "execution_count": 35,
   "metadata": {},
   "outputs": [
    {
     "data": {
      "image/png": "[encoded data removed]",
      "text/plain": [
       "<IPython.core.display.Image object>"
      ]
     },
     "execution_count": 35,
     "metadata": {},
     "output_type": "execute_result"
    }
   ],
   "source": [
    "plot_model(models[0], MODEL_NAMES[0]+'.png', show_shapes=True)"
   ]
  },
  {
   "cell_type": "code",
   "execution_count": 36,
   "metadata": {},
   "outputs": [
    {
     "data": {
      "image/png": "[encoded data removed]",
      "text/plain": [
       "<IPython.core.display.Image object>"
      ]
     },
     "execution_count": 36,
     "metadata": {},
     "output_type": "execute_result"
    }
   ],
   "source": [
    "plot_model(models[1], MODEL_NAMES[1]+'.png', show_shapes=True)"
   ]
  },
  {
   "cell_type": "code",
   "execution_count": 37,
   "metadata": {},
   "outputs": [
    {
     "data": {
      "image/png": "[encoded data removed]",
      "text/plain": [
       "<IPython.core.display.Image object>"
      ]
     },
     "execution_count": 37,
     "metadata": {},
     "output_type": "execute_result"
    }
   ],
   "source": [
    "plot_model(models[2], MODEL_NAMES[2]+'.png', show_shapes=True)"
   ]
  },
  {
   "cell_type": "code",
   "execution_count": 38,
   "metadata": {},
   "outputs": [
    {
     "data": {
      "image/png": "[encoded data removed]",
      "text/plain": [
       "<IPython.core.display.Image object>"
      ]
     },
     "execution_count": 38,
     "metadata": {},
     "output_type": "execute_result"
    }
   ],
   "source": [
    "plot_model(models[3], MODEL_NAMES[0]+'.png', show_shapes=True)"
   ]
  },
  {
   "cell_type": "markdown",
   "metadata": {},
   "source": [
    "# Model"
   ]
  },
  {
   "cell_type": "code",
   "execution_count": 39,
   "metadata": {},
   "outputs": [],
   "source": [
    "loss_func = tf.keras.losses.CategoricalCrossentropy()\n",
    "optimizer = tf.keras.optimizers.Adam(LEARNING_RATE)"
   ]
  },
  {
   "cell_type": "code",
   "execution_count": 40,
   "metadata": {},
   "outputs": [],
   "source": [
    "train_mean_loss = tf.keras.metrics.Mean(name=\"train_mean_loss\")\n",
    "train_acc = tf.keras.metrics.CategoricalAccuracy(name=\"train_acc\")"
   ]
  },
  {
   "cell_type": "code",
   "execution_count": 41,
   "metadata": {},
   "outputs": [],
   "source": [
    "def calculate_loss(Y_true, Y_pred,  training=False):\n",
    "    loss = loss_func(tf.convert_to_tensor(Y_true), tf.convert_to_tensor(Y_pred))\n",
    "    return loss"
   ]
  },
  {
   "cell_type": "code",
   "execution_count": 42,
   "metadata": {},
   "outputs": [],
   "source": [
    "def wrapper_fn():\n",
    "    @tf.function(experimental_relax_shapes=True)\n",
    "    def train_step(model, X_input, Y_true):\n",
    "        with tf.GradientTape() as tape:\n",
    "            Y_pred = model(X_input)\n",
    "            loss = calculate_loss(Y_true, Y_pred)\n",
    "        grads = tape.gradient(loss, model.trainable_variables)\n",
    "        optimizer.apply_gradients(zip(grads, model.trainable_variables))\n",
    "        mean_loss = train_mean_loss(loss)\n",
    "        acc = train_acc(Y_true, Y_pred)\n",
    "        return mean_loss, acc\n",
    "    return train_step"
   ]
  },
  {
   "cell_type": "code",
   "execution_count": 43,
   "metadata": {
    "scrolled": true
   },
   "outputs": [],
   "source": [
    "# Begin training!#\n",
    "\n",
    "def train_dataset(model_name, model, X_train):\n",
    "    hist = {\"mean_loss\":[], \"acc\":[]}\n",
    "    train_step_fn = model_name+\"train_step\"\n",
    "    train_step_fn = wrapper_fn()\n",
    "\n",
    "    if hasattr(tqdm, '_instances'): tqdm._instances.clear()  # clear if it exists\n",
    "    for i in tqdm(range(EPOCHS)):    \n",
    "        print(\"starting training model: {}, epoch# {} of {} ..\".format(model_name, i+1, EPOCHS))\n",
    "        \n",
    "        for j, X_input  in enumerate(X_train):\n",
    "            Y_true = df_dataset[\"Y_category\"][j]\n",
    "            \n",
    "            mean_loss, acc = train_step_fn(model, X_input, Y_true )\n",
    "            \n",
    "            hist['mean_loss'].append(mean_loss.numpy())\n",
    "            hist['acc'].append(acc.numpy())\n",
    "            print(\"   finished {} samples in step# {} of {} mean_loss {}, acc {}\".format(\n",
    "                len(Y_true), j+1, len(X_train), mean_loss, acc))\n",
    "    return hist"
   ]
  },
  {
   "cell_type": "code",
   "execution_count": 44,
   "metadata": {},
   "outputs": [],
   "source": [
    "X_train = df_dataset[\"X_notes\"][0:4]"
   ]
  },
  {
   "cell_type": "code",
   "execution_count": 45,
   "metadata": {},
   "outputs": [
    {
     "data": {
      "text/plain": [
       "0    [[[101, 3114, 2005, 6098, 5776, 2038, 2381, 19...\n",
       "1    [[[101, 5776, 4429, 7534, 2007, 2206, 10821, 2...\n",
       "2    [[[101, 5776, 17612, 2015, 1997, 18449, 4432, ...\n",
       "3    [[[101, 5776, 7534, 2005, 2128, 13770, 2140, 9...\n",
       "Name: X_notes, dtype: object"
      ]
     },
     "execution_count": 45,
     "metadata": {},
     "output_type": "execute_result"
    }
   ],
   "source": [
    "X_train"
   ]
  },
  {
   "cell_type": "code",
   "execution_count": 46,
   "metadata": {},
   "outputs": [],
   "source": [
    "def train_meta_model(X_train):\n",
    "    meta_hist = []\n",
    "    for i in range(len(MODEL_NAMES)):\n",
    "        hist = train_dataset(MODEL_NAMES[i], models[i], X_train)\n",
    "        meta_hist.append(hist)\n",
    "    return meta_hist"
   ]
  },
  {
   "cell_type": "code",
   "execution_count": 47,
   "metadata": {},
   "outputs": [
    {
     "name": "stderr",
     "output_type": "stream",
     "text": [
      "\r",
      "  0%|          | 0/1 [00:00<?, ?it/s]"
     ]
    },
    {
     "name": "stdout",
     "output_type": "stream",
     "text": [
      "starting training model: burt_only, epoch# 1 of 1 ..\n",
      "   finished 52 samples in step# 1 of 4 mean_loss 2.687411308288574, acc 0.03846153989434242\n",
      "   finished 29 samples in step# 2 of 4 mean_loss 2.5419387817382812, acc 0.12345679104328156\n",
      "   finished 36 samples in step# 3 of 4 mean_loss 2.324989080429077, acc 0.2905983030796051\n"
     ]
    },
    {
     "name": "stderr",
     "output_type": "stream",
     "text": [
      "100%|██████████| 1/1 [00:49<00:00, 49.99s/it]"
     ]
    },
    {
     "name": "stdout",
     "output_type": "stream",
     "text": [
      "   finished 34 samples in step# 4 of 4 mean_loss 2.137502431869507, acc 0.3708609342575073\n"
     ]
    },
    {
     "name": "stderr",
     "output_type": "stream",
     "text": [
      "\n",
      "  0%|          | 0/1 [00:00<?, ?it/s]"
     ]
    },
    {
     "name": "stdout",
     "output_type": "stream",
     "text": [
      "starting training model: burt_LTSM128, epoch# 1 of 1 ..\n",
      "   finished 52 samples in step# 1 of 4 mean_loss 2.311809539794922, acc 0.2857142984867096\n",
      "   finished 29 samples in step# 2 of 4 mean_loss 2.3004581928253174, acc 0.3017241358757019\n",
      "   finished 36 samples in step# 3 of 4 mean_loss 2.164639711380005, acc 0.35820895433425903\n"
     ]
    },
    {
     "name": "stderr",
     "output_type": "stream",
     "text": [
      "100%|██████████| 1/1 [00:49<00:00, 49.82s/it]"
     ]
    },
    {
     "name": "stdout",
     "output_type": "stream",
     "text": [
      "   finished 34 samples in step# 4 of 4 mean_loss 2.0575075149536133, acc 0.3907284736633301\n"
     ]
    },
    {
     "name": "stderr",
     "output_type": "stream",
     "text": [
      "\n",
      "  0%|          | 0/1 [00:00<?, ?it/s]"
     ]
    },
    {
     "name": "stdout",
     "output_type": "stream",
     "text": [
      "starting training model: burt_LTSM256, epoch# 1 of 1 ..\n",
      "   finished 52 samples in step# 1 of 4 mean_loss 2.1098947525024414, acc 0.3502824902534485\n",
      "   finished 29 samples in step# 2 of 4 mean_loss 2.071743965148926, acc 0.37075719237327576\n",
      "   finished 36 samples in step# 3 of 4 mean_loss 1.9846354722976685, acc 0.4009546637535095\n"
     ]
    },
    {
     "name": "stderr",
     "output_type": "stream",
     "text": [
      "100%|██████████| 1/1 [00:53<00:00, 53.63s/it]"
     ]
    },
    {
     "name": "stdout",
     "output_type": "stream",
     "text": [
      "   finished 34 samples in step# 4 of 4 mean_loss 1.9397640228271484, acc 0.4194260537624359\n"
     ]
    },
    {
     "name": "stderr",
     "output_type": "stream",
     "text": [
      "\n",
      "  0%|          | 0/1 [00:00<?, ?it/s]"
     ]
    },
    {
     "name": "stdout",
     "output_type": "stream",
     "text": [
      "starting training model: embd_LTSM256, epoch# 1 of 1 ..\n",
      "   finished 52 samples in step# 1 of 4 mean_loss 1.9934369325637817, acc 0.38019803166389465\n",
      "   finished 29 samples in step# 2 of 4 mean_loss 2.029017686843872, acc 0.3932584226131439\n",
      "   finished 36 samples in step# 3 of 4 mean_loss 2.042818546295166, acc 0.4140350818634033\n"
     ]
    },
    {
     "name": "stderr",
     "output_type": "stream",
     "text": [
      "100%|██████████| 1/1 [00:11<00:00, 11.20s/it]"
     ]
    },
    {
     "name": "stdout",
     "output_type": "stream",
     "text": [
      "   finished 34 samples in step# 4 of 4 mean_loss 2.0365891456604004, acc 0.4271523058414459\n"
     ]
    },
    {
     "name": "stderr",
     "output_type": "stream",
     "text": [
      "\n"
     ]
    }
   ],
   "source": [
    "meta_hist = train_meta_model(X_train)"
   ]
  },
  {
   "cell_type": "code",
   "execution_count": 48,
   "metadata": {},
   "outputs": [],
   "source": [
    "def plot_utility(data, xlabel, ylabel):\n",
    "\n",
    "    plt.plot(data[0], 'r-.')\n",
    "    plt.plot(data[1], 'b--')\n",
    "    plt.plot(data[2], 'g-')\n",
    "    plt.plot(data[3], 'b--')\n",
    "\n",
    "    plt.legend([MODEL_NAMES[0], MODEL_NAMES[1], MODEL_NAMES[2], MODEL_NAMES[3]])\n",
    "    plt.xlabel(xlabel)\n",
    "    plt.ylabel(ylabel)\n",
    "    plt.show();\n",
    "    return"
   ]
  },
  {
   "cell_type": "code",
   "execution_count": 49,
   "metadata": {},
   "outputs": [
    {
     "data": {
      "image/png": "[encoded data removed]",
      "text/plain": [
       "<Figure size 432x288 with 1 Axes>"
      ]
     },
     "metadata": {
      "needs_background": "light"
     },
     "output_type": "display_data"
    }
   ],
   "source": [
    "data = [meta_hist[i]['acc'] for i in range(len(meta_hist))]\n",
    "\n",
    "plot_utility(data, \"Steps\", \"Loss\")"
   ]
  },
  {
   "cell_type": "markdown",
   "metadata": {},
   "source": [
    "### Predictions"
   ]
  },
  {
   "cell_type": "code",
   "execution_count": 50,
   "metadata": {},
   "outputs": [],
   "source": [
    "X_test = df_dataset[\"X_notes\"]\n",
    "Y_test = df_dataset[\"Y_category\"]\n",
    "Y_test_cat = df_dataset[\"category\"]\n",
    "id = df_dataset[\"id\"]"
   ]
  },
  {
   "cell_type": "code",
   "execution_count": 51,
   "metadata": {},
   "outputs": [],
   "source": [
    "def predict_step(model_name, model, id, notes, true_category):\n",
    "    print(\"patient_id -> {}\".format(id))\n",
    "    assert len(notes)==3, \"X length is inconsistent\"\n",
    "    assert len(true_category)==len(notes[0]), \"Y length is inconsistent\"\n",
    "    df_step_result = None\n",
    "    pred_category = []\n",
    "    pred = model(notes)\n",
    "    pred_max = np.argmax(pred , axis=1)\n",
    "    [pred_category.append(CATEGORIES[val]) for val in pred_max]\n",
    "    \n",
    "    pred = model_name + \"_pred\"\n",
    "    eval = model_name + \"_eval\"\n",
    "    \n",
    "    data = {\"id\":id, \"true_category\":true_category, pred:pred_category}\n",
    "    df_step_result = pd.DataFrame.from_dict(data)\n",
    "    df_step_result[eval] = np.where(df_step_result[\"true_category\"] == df_step_result[pred], 100, 0)\n",
    "    pass_count = (df_step_result[eval]==100).sum()\n",
    "    pred_success = pass_count/len(df_step_result[eval])\n",
    "    \n",
    "    print(\"  model: {} -> patient notes: {} lines, pred_success : {:.0%}\".format(\n",
    "        model_name, df_step_result.shape[0], pred_success))\n",
    "    \n",
    "    return df_step_result                      "
   ]
  },
  {
   "cell_type": "code",
   "execution_count": 52,
   "metadata": {},
   "outputs": [],
   "source": [
    "def predict_one_model(model_name, model, id, X_test, Y_test_cat):\n",
    "    model_arr = np.array([])\n",
    "    for i in range(len(X_test)):       \n",
    "        df_step_result = predict_step(\n",
    "            model_name, model, id[id.index[i]], X_test[X_test.index[i]], Y_test_cat[Y_test_cat.index[i]])\n",
    "        model_arr = np.append(model_arr, df_step_result.to_numpy())\n",
    "    model_arr = model_arr.reshape(-1,4)\n",
    "    model_col_names = list(df_step_result)\n",
    "    df_one_model = pd.DataFrame(model_arr, columns = model_col_names)\n",
    "    print(\"df_one_model ->\", df_one_model.shape)\n",
    "    return df_one_model\n"
   ]
  },
  {
   "cell_type": "code",
   "execution_count": 53,
   "metadata": {},
   "outputs": [],
   "source": [
    "def predict_all_models():\n",
    "    df_models = pd.DataFrame()\n",
    "    for i, model in enumerate(models):\n",
    "        print(\"***** started processing model#{} *****\".format(i))\n",
    "        df_one_model = predict_one_model(MODEL_NAMES[i], model, id, X_test, Y_test_cat)\n",
    "        df_models = pd.concat([df_models, df_one_model], axis=1) \n",
    "    df_models = df_models.loc[:, ~df_models.columns.duplicated()] \n",
    "    return df_models"
   ]
  },
  {
   "cell_type": "code",
   "execution_count": 54,
   "metadata": {},
   "outputs": [
    {
     "name": "stdout",
     "output_type": "stream",
     "text": [
      "***** started processing model#0 *****\n",
      "patient_id -> 11111\n",
      "  model: burt_only -> patient notes: 52 lines, pred_success : 54%\n",
      "patient_id -> 11112\n",
      "  model: burt_only -> patient notes: 29 lines, pred_success : 62%\n",
      "patient_id -> 11113\n",
      "  model: burt_only -> patient notes: 36 lines, pred_success : 72%\n",
      "patient_id -> 11114\n",
      "WARNING:tensorflow:5 out of the last 14 calls to <function recreate_function.<locals>.restored_function_body at 0x14181a9e0> triggered tf.function retracing. Tracing is expensive and the excessive number of tracings is likely due to passing python objects instead of tensors. Also, tf.function has experimental_relax_shapes=True option that relaxes argument shapes that can avoid unnecessary retracing. Please refer to https://www.tensorflow.org/tutorials/customization/performance#python_or_tensor_args and https://www.tensorflow.org/api_docs/python/tf/function for more details.\n"
     ]
    },
    {
     "name": "stderr",
     "output_type": "stream",
     "text": [
      "WARNING:tensorflow:5 out of the last 14 calls to <function recreate_function.<locals>.restored_function_body at 0x14181a9e0> triggered tf.function retracing. Tracing is expensive and the excessive number of tracings is likely due to passing python objects instead of tensors. Also, tf.function has experimental_relax_shapes=True option that relaxes argument shapes that can avoid unnecessary retracing. Please refer to https://www.tensorflow.org/tutorials/customization/performance#python_or_tensor_args and https://www.tensorflow.org/api_docs/python/tf/function for more details.\n"
     ]
    },
    {
     "name": "stdout",
     "output_type": "stream",
     "text": [
      "  model: burt_only -> patient notes: 34 lines, pred_success : 65%\n",
      "patient_id -> 11115\n",
      "WARNING:tensorflow:6 out of the last 15 calls to <function recreate_function.<locals>.restored_function_body at 0x14181a9e0> triggered tf.function retracing. Tracing is expensive and the excessive number of tracings is likely due to passing python objects instead of tensors. Also, tf.function has experimental_relax_shapes=True option that relaxes argument shapes that can avoid unnecessary retracing. Please refer to https://www.tensorflow.org/tutorials/customization/performance#python_or_tensor_args and https://www.tensorflow.org/api_docs/python/tf/function for more details.\n"
     ]
    },
    {
     "name": "stderr",
     "output_type": "stream",
     "text": [
      "WARNING:tensorflow:6 out of the last 15 calls to <function recreate_function.<locals>.restored_function_body at 0x14181a9e0> triggered tf.function retracing. Tracing is expensive and the excessive number of tracings is likely due to passing python objects instead of tensors. Also, tf.function has experimental_relax_shapes=True option that relaxes argument shapes that can avoid unnecessary retracing. Please refer to https://www.tensorflow.org/tutorials/customization/performance#python_or_tensor_args and https://www.tensorflow.org/api_docs/python/tf/function for more details.\n"
     ]
    },
    {
     "name": "stdout",
     "output_type": "stream",
     "text": [
      "  model: burt_only -> patient notes: 12 lines, pred_success : 33%\n",
      "patient_id -> 11116\n",
      "WARNING:tensorflow:7 out of the last 16 calls to <function recreate_function.<locals>.restored_function_body at 0x14181a9e0> triggered tf.function retracing. Tracing is expensive and the excessive number of tracings is likely due to passing python objects instead of tensors. Also, tf.function has experimental_relax_shapes=True option that relaxes argument shapes that can avoid unnecessary retracing. Please refer to https://www.tensorflow.org/tutorials/customization/performance#python_or_tensor_args and https://www.tensorflow.org/api_docs/python/tf/function for more details.\n"
     ]
    },
    {
     "name": "stderr",
     "output_type": "stream",
     "text": [
      "WARNING:tensorflow:7 out of the last 16 calls to <function recreate_function.<locals>.restored_function_body at 0x14181a9e0> triggered tf.function retracing. Tracing is expensive and the excessive number of tracings is likely due to passing python objects instead of tensors. Also, tf.function has experimental_relax_shapes=True option that relaxes argument shapes that can avoid unnecessary retracing. Please refer to https://www.tensorflow.org/tutorials/customization/performance#python_or_tensor_args and https://www.tensorflow.org/api_docs/python/tf/function for more details.\n"
     ]
    },
    {
     "name": "stdout",
     "output_type": "stream",
     "text": [
      "  model: burt_only -> patient notes: 17 lines, pred_success : 53%\n",
      "patient_id -> 11117\n",
      "WARNING:tensorflow:8 out of the last 17 calls to <function recreate_function.<locals>.restored_function_body at 0x14181a9e0> triggered tf.function retracing. Tracing is expensive and the excessive number of tracings is likely due to passing python objects instead of tensors. Also, tf.function has experimental_relax_shapes=True option that relaxes argument shapes that can avoid unnecessary retracing. Please refer to https://www.tensorflow.org/tutorials/customization/performance#python_or_tensor_args and https://www.tensorflow.org/api_docs/python/tf/function for more details.\n"
     ]
    },
    {
     "name": "stderr",
     "output_type": "stream",
     "text": [
      "WARNING:tensorflow:8 out of the last 17 calls to <function recreate_function.<locals>.restored_function_body at 0x14181a9e0> triggered tf.function retracing. Tracing is expensive and the excessive number of tracings is likely due to passing python objects instead of tensors. Also, tf.function has experimental_relax_shapes=True option that relaxes argument shapes that can avoid unnecessary retracing. Please refer to https://www.tensorflow.org/tutorials/customization/performance#python_or_tensor_args and https://www.tensorflow.org/api_docs/python/tf/function for more details.\n"
     ]
    },
    {
     "name": "stdout",
     "output_type": "stream",
     "text": [
      "  model: burt_only -> patient notes: 14 lines, pred_success : 57%\n",
      "patient_id -> 11118\n",
      "WARNING:tensorflow:9 out of the last 18 calls to <function recreate_function.<locals>.restored_function_body at 0x14181a9e0> triggered tf.function retracing. Tracing is expensive and the excessive number of tracings is likely due to passing python objects instead of tensors. Also, tf.function has experimental_relax_shapes=True option that relaxes argument shapes that can avoid unnecessary retracing. Please refer to https://www.tensorflow.org/tutorials/customization/performance#python_or_tensor_args and https://www.tensorflow.org/api_docs/python/tf/function for more details.\n"
     ]
    },
    {
     "name": "stderr",
     "output_type": "stream",
     "text": [
      "WARNING:tensorflow:9 out of the last 18 calls to <function recreate_function.<locals>.restored_function_body at 0x14181a9e0> triggered tf.function retracing. Tracing is expensive and the excessive number of tracings is likely due to passing python objects instead of tensors. Also, tf.function has experimental_relax_shapes=True option that relaxes argument shapes that can avoid unnecessary retracing. Please refer to https://www.tensorflow.org/tutorials/customization/performance#python_or_tensor_args and https://www.tensorflow.org/api_docs/python/tf/function for more details.\n"
     ]
    },
    {
     "name": "stdout",
     "output_type": "stream",
     "text": [
      "  model: burt_only -> patient notes: 5 lines, pred_success : 0%\n",
      "patient_id -> 81118\n",
      "WARNING:tensorflow:10 out of the last 19 calls to <function recreate_function.<locals>.restored_function_body at 0x14181a9e0> triggered tf.function retracing. Tracing is expensive and the excessive number of tracings is likely due to passing python objects instead of tensors. Also, tf.function has experimental_relax_shapes=True option that relaxes argument shapes that can avoid unnecessary retracing. Please refer to https://www.tensorflow.org/tutorials/customization/performance#python_or_tensor_args and https://www.tensorflow.org/api_docs/python/tf/function for more details.\n"
     ]
    },
    {
     "name": "stderr",
     "output_type": "stream",
     "text": [
      "WARNING:tensorflow:10 out of the last 19 calls to <function recreate_function.<locals>.restored_function_body at 0x14181a9e0> triggered tf.function retracing. Tracing is expensive and the excessive number of tracings is likely due to passing python objects instead of tensors. Also, tf.function has experimental_relax_shapes=True option that relaxes argument shapes that can avoid unnecessary retracing. Please refer to https://www.tensorflow.org/tutorials/customization/performance#python_or_tensor_args and https://www.tensorflow.org/api_docs/python/tf/function for more details.\n"
     ]
    },
    {
     "name": "stdout",
     "output_type": "stream",
     "text": [
      "  model: burt_only -> patient notes: 11 lines, pred_success : 64%\n",
      "df_one_model -> (210, 4)\n",
      "***** started processing model#1 *****\n",
      "patient_id -> 11111\n",
      "  model: burt_LTSM128 -> patient notes: 52 lines, pred_success : 54%\n",
      "patient_id -> 11112\n",
      "  model: burt_LTSM128 -> patient notes: 29 lines, pred_success : 62%\n",
      "patient_id -> 11113\n",
      "  model: burt_LTSM128 -> patient notes: 36 lines, pred_success : 72%\n",
      "patient_id -> 11114\n",
      "  model: burt_LTSM128 -> patient notes: 34 lines, pred_success : 65%\n",
      "patient_id -> 11115\n",
      "  model: burt_LTSM128 -> patient notes: 12 lines, pred_success : 33%\n",
      "patient_id -> 11116\n",
      "  model: burt_LTSM128 -> patient notes: 17 lines, pred_success : 53%\n",
      "patient_id -> 11117\n",
      "  model: burt_LTSM128 -> patient notes: 14 lines, pred_success : 57%\n",
      "patient_id -> 11118\n",
      "  model: burt_LTSM128 -> patient notes: 5 lines, pred_success : 0%\n",
      "patient_id -> 81118\n",
      "  model: burt_LTSM128 -> patient notes: 11 lines, pred_success : 64%\n",
      "df_one_model -> (210, 4)\n",
      "***** started processing model#2 *****\n",
      "patient_id -> 11111\n",
      "  model: burt_LTSM256 -> patient notes: 52 lines, pred_success : 56%\n",
      "patient_id -> 11112\n",
      "  model: burt_LTSM256 -> patient notes: 29 lines, pred_success : 66%\n",
      "patient_id -> 11113\n",
      "  model: burt_LTSM256 -> patient notes: 36 lines, pred_success : 75%\n",
      "patient_id -> 11114\n",
      "  model: burt_LTSM256 -> patient notes: 34 lines, pred_success : 68%\n",
      "patient_id -> 11115\n",
      "  model: burt_LTSM256 -> patient notes: 12 lines, pred_success : 42%\n",
      "patient_id -> 11116\n",
      "  model: burt_LTSM256 -> patient notes: 17 lines, pred_success : 59%\n",
      "patient_id -> 11117\n",
      "  model: burt_LTSM256 -> patient notes: 14 lines, pred_success : 64%\n",
      "patient_id -> 11118\n",
      "  model: burt_LTSM256 -> patient notes: 5 lines, pred_success : 20%\n",
      "patient_id -> 81118\n",
      "  model: burt_LTSM256 -> patient notes: 11 lines, pred_success : 73%\n",
      "df_one_model -> (210, 4)\n",
      "***** started processing model#3 *****\n",
      "patient_id -> 11111\n",
      "  model: embd_LTSM256 -> patient notes: 52 lines, pred_success : 54%\n",
      "patient_id -> 11112\n",
      "  model: embd_LTSM256 -> patient notes: 29 lines, pred_success : 62%\n",
      "patient_id -> 11113\n",
      "  model: embd_LTSM256 -> patient notes: 36 lines, pred_success : 72%\n",
      "patient_id -> 11114\n",
      "  model: embd_LTSM256 -> patient notes: 34 lines, pred_success : 65%\n",
      "patient_id -> 11115\n",
      "  model: embd_LTSM256 -> patient notes: 12 lines, pred_success : 33%\n",
      "patient_id -> 11116\n",
      "  model: embd_LTSM256 -> patient notes: 17 lines, pred_success : 53%\n",
      "patient_id -> 11117\n",
      "  model: embd_LTSM256 -> patient notes: 14 lines, pred_success : 57%\n",
      "patient_id -> 11118\n",
      "  model: embd_LTSM256 -> patient notes: 5 lines, pred_success : 0%\n",
      "patient_id -> 81118\n",
      "  model: embd_LTSM256 -> patient notes: 11 lines, pred_success : 64%\n",
      "df_one_model -> (210, 4)\n"
     ]
    }
   ],
   "source": [
    "df_models = predict_all_models()"
   ]
  },
  {
   "cell_type": "markdown",
   "metadata": {},
   "source": [
    "### Prediction Scores"
   ]
  },
  {
   "cell_type": "code",
   "execution_count": 55,
   "metadata": {},
   "outputs": [],
   "source": [
    "def bar_plot_utility(ax, data, colors=None, total_width=0.8, single_width=1, legend=False):\n",
    "    if colors is None:\n",
    "        colors = plt.rcParams['axes.prop_cycle'].by_key()['color']\n",
    "    n_bars = len(MODEL_NAMES)\n",
    "    bar_width = total_width / n_bars\n",
    "    bars = []\n",
    "    for i, (name, values) in enumerate(data.items()):\n",
    "        x_offset = (i - n_bars / 2) * bar_width + bar_width / 2\n",
    "        for x, y in enumerate(values):\n",
    "            bar = ax.bar(x + x_offset, y, width=bar_width * single_width, color=colors[i % len(colors)])\n",
    "            bars.append(bar[0])\n",
    "        if legend:\n",
    "            ax.legend(bars, data.keys())\n",
    "    return"
   ]
  },
  {
   "cell_type": "code",
   "execution_count": 56,
   "metadata": {},
   "outputs": [
    {
     "data": {
      "image/png": "[encoded data removed]",
      "text/plain": [
       "<Figure size 432x288 with 1 Axes>"
      ]
     },
     "metadata": {
      "needs_background": "light"
     },
     "output_type": "display_data"
    },
    {
     "name": "stdout",
     "output_type": "stream",
     "text": [
      "   burt_only  burt_LTSM128  burt_LTSM256  embd_LTSM256  training_sample\n",
      "0         54            54            56            54             True\n",
      "1         62            62            66            62             True\n",
      "2         72            72            75            72             True\n",
      "3         65            65            68            65             True\n",
      "4         33            33            42            33            False\n",
      "5         53            53            59            53            False\n",
      "6         57            57            64            57            False\n",
      "7          0             0            20             0            False\n",
      "8         64            64            73            64            False\n"
     ]
    }
   ],
   "source": [
    "def plot_score():\n",
    "    data = {}\n",
    "    training_sample = []\n",
    "    for i, name in enumerate(MODEL_NAMES):\n",
    "        col_name = name + '_eval'\n",
    "        arr = [statistics.mean(row) for row in df_models.groupby(['id'])[col_name].apply(list)]\n",
    "        data[name] = arr\n",
    "\n",
    "    for i in range(len(arr)):\n",
    "        if i<len(X_train):\n",
    "            training_sample.append(True)\n",
    "        else:\n",
    "            training_sample.append(False)\n",
    "    data[\"training_sample\"] = training_sample\n",
    "\n",
    "    fig, ax = plt.subplots()\n",
    "    bar_plot_utility(ax, data, total_width=.8, single_width=.9)\n",
    "    plt.show()\n",
    "\n",
    "    df_score = pd.DataFrame(data)\n",
    "    pd.options.display.float_format = '{:,.0f}'.format\n",
    "    print(df_score)\n",
    "    return df_score\n",
    "\n",
    "df_score = plot_score()"
   ]
  },
  {
   "cell_type": "code",
   "execution_count": 57,
   "metadata": {},
   "outputs": [
    {
     "data": {
      "text/html": [
       "<div>\n",
       "<style scoped>\n",
       "    .dataframe tbody tr th:only-of-type {\n",
       "        vertical-align: middle;\n",
       "    }\n",
       "\n",
       "    .dataframe tbody tr th {\n",
       "        vertical-align: top;\n",
       "    }\n",
       "\n",
       "    .dataframe thead th {\n",
       "        text-align: right;\n",
       "    }\n",
       "</style>\n",
       "<table border=\"1\" class=\"dataframe\">\n",
       "  <thead>\n",
       "    <tr style=\"text-align: right;\">\n",
       "      <th></th>\n",
       "      <th>burt_only</th>\n",
       "      <th>burt_LTSM128</th>\n",
       "      <th>burt_LTSM256</th>\n",
       "      <th>embd_LTSM256</th>\n",
       "      <th>training_sample</th>\n",
       "    </tr>\n",
       "  </thead>\n",
       "  <tbody>\n",
       "    <tr>\n",
       "      <th>0</th>\n",
       "      <td>54</td>\n",
       "      <td>54</td>\n",
       "      <td>56</td>\n",
       "      <td>54</td>\n",
       "      <td>True</td>\n",
       "    </tr>\n",
       "    <tr>\n",
       "      <th>1</th>\n",
       "      <td>62</td>\n",
       "      <td>62</td>\n",
       "      <td>66</td>\n",
       "      <td>62</td>\n",
       "      <td>True</td>\n",
       "    </tr>\n",
       "    <tr>\n",
       "      <th>2</th>\n",
       "      <td>72</td>\n",
       "      <td>72</td>\n",
       "      <td>75</td>\n",
       "      <td>72</td>\n",
       "      <td>True</td>\n",
       "    </tr>\n",
       "    <tr>\n",
       "      <th>3</th>\n",
       "      <td>65</td>\n",
       "      <td>65</td>\n",
       "      <td>68</td>\n",
       "      <td>65</td>\n",
       "      <td>True</td>\n",
       "    </tr>\n",
       "    <tr>\n",
       "      <th>4</th>\n",
       "      <td>33</td>\n",
       "      <td>33</td>\n",
       "      <td>42</td>\n",
       "      <td>33</td>\n",
       "      <td>False</td>\n",
       "    </tr>\n",
       "    <tr>\n",
       "      <th>5</th>\n",
       "      <td>53</td>\n",
       "      <td>53</td>\n",
       "      <td>59</td>\n",
       "      <td>53</td>\n",
       "      <td>False</td>\n",
       "    </tr>\n",
       "    <tr>\n",
       "      <th>6</th>\n",
       "      <td>57</td>\n",
       "      <td>57</td>\n",
       "      <td>64</td>\n",
       "      <td>57</td>\n",
       "      <td>False</td>\n",
       "    </tr>\n",
       "    <tr>\n",
       "      <th>7</th>\n",
       "      <td>0</td>\n",
       "      <td>0</td>\n",
       "      <td>20</td>\n",
       "      <td>0</td>\n",
       "      <td>False</td>\n",
       "    </tr>\n",
       "    <tr>\n",
       "      <th>8</th>\n",
       "      <td>64</td>\n",
       "      <td>64</td>\n",
       "      <td>73</td>\n",
       "      <td>64</td>\n",
       "      <td>False</td>\n",
       "    </tr>\n",
       "  </tbody>\n",
       "</table>\n",
       "</div>"
      ],
      "text/plain": [
       "   burt_only  burt_LTSM128  burt_LTSM256  embd_LTSM256  training_sample\n",
       "0         54            54            56            54             True\n",
       "1         62            62            66            62             True\n",
       "2         72            72            75            72             True\n",
       "3         65            65            68            65             True\n",
       "4         33            33            42            33            False\n",
       "5         53            53            59            53            False\n",
       "6         57            57            64            57            False\n",
       "7          0             0            20             0            False\n",
       "8         64            64            73            64            False"
      ]
     },
     "execution_count": 57,
     "metadata": {},
     "output_type": "execute_result"
    }
   ],
   "source": [
    "df_score"
   ]
  },
  {
   "cell_type": "code",
   "execution_count": 58,
   "metadata": {},
   "outputs": [
    {
     "data": {
      "text/html": [
       "<div>\n",
       "<style scoped>\n",
       "    .dataframe tbody tr th:only-of-type {\n",
       "        vertical-align: middle;\n",
       "    }\n",
       "\n",
       "    .dataframe tbody tr th {\n",
       "        vertical-align: top;\n",
       "    }\n",
       "\n",
       "    .dataframe thead th {\n",
       "        text-align: right;\n",
       "    }\n",
       "</style>\n",
       "<table border=\"1\" class=\"dataframe\">\n",
       "  <thead>\n",
       "    <tr style=\"text-align: right;\">\n",
       "      <th></th>\n",
       "      <th>id</th>\n",
       "      <th>true_category</th>\n",
       "      <th>burt_only_pred</th>\n",
       "      <th>burt_only_eval</th>\n",
       "      <th>burt_LTSM128_pred</th>\n",
       "      <th>burt_LTSM128_eval</th>\n",
       "      <th>burt_LTSM256_pred</th>\n",
       "      <th>burt_LTSM256_eval</th>\n",
       "      <th>embd_LTSM256_pred</th>\n",
       "      <th>embd_LTSM256_eval</th>\n",
       "    </tr>\n",
       "  </thead>\n",
       "  <tbody>\n",
       "    <tr>\n",
       "      <th>0</th>\n",
       "      <td>11111</td>\n",
       "      <td>chief_complaint</td>\n",
       "      <td>examination</td>\n",
       "      <td>0</td>\n",
       "      <td>examination</td>\n",
       "      <td>0</td>\n",
       "      <td>examination</td>\n",
       "      <td>0</td>\n",
       "      <td>examination</td>\n",
       "      <td>0</td>\n",
       "    </tr>\n",
       "    <tr>\n",
       "      <th>1</th>\n",
       "      <td>11111</td>\n",
       "      <td>chief_complaint</td>\n",
       "      <td>examination</td>\n",
       "      <td>0</td>\n",
       "      <td>examination</td>\n",
       "      <td>0</td>\n",
       "      <td>examination</td>\n",
       "      <td>0</td>\n",
       "      <td>examination</td>\n",
       "      <td>0</td>\n",
       "    </tr>\n",
       "    <tr>\n",
       "      <th>2</th>\n",
       "      <td>11111</td>\n",
       "      <td>chief_complaint</td>\n",
       "      <td>examination</td>\n",
       "      <td>0</td>\n",
       "      <td>examination</td>\n",
       "      <td>0</td>\n",
       "      <td>examination</td>\n",
       "      <td>0</td>\n",
       "      <td>examination</td>\n",
       "      <td>0</td>\n",
       "    </tr>\n",
       "    <tr>\n",
       "      <th>3</th>\n",
       "      <td>11111</td>\n",
       "      <td>illness_hist</td>\n",
       "      <td>examination</td>\n",
       "      <td>0</td>\n",
       "      <td>examination</td>\n",
       "      <td>0</td>\n",
       "      <td>examination</td>\n",
       "      <td>0</td>\n",
       "      <td>examination</td>\n",
       "      <td>0</td>\n",
       "    </tr>\n",
       "    <tr>\n",
       "      <th>4</th>\n",
       "      <td>11111</td>\n",
       "      <td>chief_complaint</td>\n",
       "      <td>examination</td>\n",
       "      <td>0</td>\n",
       "      <td>examination</td>\n",
       "      <td>0</td>\n",
       "      <td>examination</td>\n",
       "      <td>0</td>\n",
       "      <td>examination</td>\n",
       "      <td>0</td>\n",
       "    </tr>\n",
       "    <tr>\n",
       "      <th>...</th>\n",
       "      <td>...</td>\n",
       "      <td>...</td>\n",
       "      <td>...</td>\n",
       "      <td>...</td>\n",
       "      <td>...</td>\n",
       "      <td>...</td>\n",
       "      <td>...</td>\n",
       "      <td>...</td>\n",
       "      <td>...</td>\n",
       "      <td>...</td>\n",
       "    </tr>\n",
       "    <tr>\n",
       "      <th>205</th>\n",
       "      <td>81118</td>\n",
       "      <td>examination</td>\n",
       "      <td>examination</td>\n",
       "      <td>100</td>\n",
       "      <td>examination</td>\n",
       "      <td>100</td>\n",
       "      <td>examination</td>\n",
       "      <td>100</td>\n",
       "      <td>examination</td>\n",
       "      <td>100</td>\n",
       "    </tr>\n",
       "    <tr>\n",
       "      <th>206</th>\n",
       "      <td>81118</td>\n",
       "      <td>examination</td>\n",
       "      <td>examination</td>\n",
       "      <td>100</td>\n",
       "      <td>examination</td>\n",
       "      <td>100</td>\n",
       "      <td>examination</td>\n",
       "      <td>100</td>\n",
       "      <td>examination</td>\n",
       "      <td>100</td>\n",
       "    </tr>\n",
       "    <tr>\n",
       "      <th>207</th>\n",
       "      <td>81118</td>\n",
       "      <td>examination</td>\n",
       "      <td>examination</td>\n",
       "      <td>100</td>\n",
       "      <td>examination</td>\n",
       "      <td>100</td>\n",
       "      <td>examination</td>\n",
       "      <td>100</td>\n",
       "      <td>examination</td>\n",
       "      <td>100</td>\n",
       "    </tr>\n",
       "    <tr>\n",
       "      <th>208</th>\n",
       "      <td>81118</td>\n",
       "      <td>diag_code</td>\n",
       "      <td>examination</td>\n",
       "      <td>0</td>\n",
       "      <td>examination</td>\n",
       "      <td>0</td>\n",
       "      <td>examination</td>\n",
       "      <td>0</td>\n",
       "      <td>examination</td>\n",
       "      <td>0</td>\n",
       "    </tr>\n",
       "    <tr>\n",
       "      <th>209</th>\n",
       "      <td>81118</td>\n",
       "      <td>modifier</td>\n",
       "      <td>examination</td>\n",
       "      <td>0</td>\n",
       "      <td>examination</td>\n",
       "      <td>0</td>\n",
       "      <td>modifier</td>\n",
       "      <td>100</td>\n",
       "      <td>examination</td>\n",
       "      <td>0</td>\n",
       "    </tr>\n",
       "  </tbody>\n",
       "</table>\n",
       "<p>210 rows × 10 columns</p>\n",
       "</div>"
      ],
      "text/plain": [
       "        id    true_category burt_only_pred burt_only_eval burt_LTSM128_pred  \\\n",
       "0    11111  chief_complaint    examination              0       examination   \n",
       "1    11111  chief_complaint    examination              0       examination   \n",
       "2    11111  chief_complaint    examination              0       examination   \n",
       "3    11111     illness_hist    examination              0       examination   \n",
       "4    11111  chief_complaint    examination              0       examination   \n",
       "..     ...              ...            ...            ...               ...   \n",
       "205  81118      examination    examination            100       examination   \n",
       "206  81118      examination    examination            100       examination   \n",
       "207  81118      examination    examination            100       examination   \n",
       "208  81118        diag_code    examination              0       examination   \n",
       "209  81118         modifier    examination              0       examination   \n",
       "\n",
       "    burt_LTSM128_eval burt_LTSM256_pred burt_LTSM256_eval embd_LTSM256_pred  \\\n",
       "0                   0       examination                 0       examination   \n",
       "1                   0       examination                 0       examination   \n",
       "2                   0       examination                 0       examination   \n",
       "3                   0       examination                 0       examination   \n",
       "4                   0       examination                 0       examination   \n",
       "..                ...               ...               ...               ...   \n",
       "205               100       examination               100       examination   \n",
       "206               100       examination               100       examination   \n",
       "207               100       examination               100       examination   \n",
       "208                 0       examination                 0       examination   \n",
       "209                 0          modifier               100       examination   \n",
       "\n",
       "    embd_LTSM256_eval  \n",
       "0                   0  \n",
       "1                   0  \n",
       "2                   0  \n",
       "3                   0  \n",
       "4                   0  \n",
       "..                ...  \n",
       "205               100  \n",
       "206               100  \n",
       "207               100  \n",
       "208                 0  \n",
       "209                 0  \n",
       "\n",
       "[210 rows x 10 columns]"
      ]
     },
     "execution_count": 58,
     "metadata": {},
     "output_type": "execute_result"
    }
   ],
   "source": [
    "df_models"
   ]
  },
  {
   "cell_type": "code",
   "execution_count": null,
   "metadata": {},
   "outputs": [],
   "source": []
  }
 ],
 "metadata": {
  "kernelspec": {
   "display_name": "deep",
   "language": "python",
   "name": "deep"
  },
  "language_info": {
   "codemirror_mode": {
    "name": "ipython",
    "version": 3
   },
   "file_extension": ".py",
   "mimetype": "text/x-python",
   "name": "python",
   "nbconvert_exporter": "python",
   "pygments_lexer": "ipython3",
   "version": "3.7.7"
  }
 },
 "nbformat": 4,
 "nbformat_minor": 4
}
